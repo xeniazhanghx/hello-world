{
 "cells": [
  {
   "cell_type": "markdown",
   "metadata": {},
   "source": [
    "### 1. 部署Python开发环境，并练习环境变量的使用。"
   ]
  },
  {
   "cell_type": "markdown",
   "metadata": {},
   "source": [
    "1.1 python安装注意事项\n",
    "- 安装路径修改成自己能找到的路径；\n",
    "- 勾选add path\n",
    "\n",
    "1.2 开发环境\n",
    "\n",
    "（1）环境变量：OS中特殊的信息，不同环境变量有不同的名字。对于python来说，只有**path**一个环境变量!\n",
    "\n",
    "（2）设置环境变量\n",
    "- 窗口设置（永久设置）\n",
    "\n",
    "　我的电脑->属性->高级系统设置->环境变量\n",
    "\n",
    "　用户变量：仅对**当前用户**起作用\n",
    "\n",
    "　系统变量：对**全部用户**起作用!\n",
    "\n",
    "　不同环境变量间用;隔开，%后面接调用的单独变量名\n",
    "\n",
    "- 使用cmd命令设置（临时性修改，只在当前窗口有效）\n",
    "\n",
    "　set path=%内容%\n",
    "\n",
    "　cmd下输入set可查看所有环境变量\n"
   ]
  },
  {
   "cell_type": "markdown",
   "metadata": {},
   "source": [
    "### 2. 计算机语言发展和按执行方式分类。"
   ]
  },
  {
   "cell_type": "markdown",
   "metadata": {},
   "source": [
    "2.1 计算机语言\n",
    "\n",
    "按照级别分类：机器语言->汇编语言->高级语言\n",
    "\n",
    "2.2 计算机语言的执行方式\n",
    "\n",
    "（1）编译执行：编译器只能编译成机器语言（不能跨平台）；只编译一次；有目标代码程序\n",
    "- 优点：运行速度快\n",
    "- 缺点：可移植性差（将二进制文件拿到其他OS上，不能直接运行）\n",
    "- 场合：做底层开发，不做底层修改（C、C++）\n",
    "（2）解释执行：相当于有一个翻译官解析源码文件（自带解释器，根据不同平台创建）。可以跨平台。每一次执行，都需要逐条解释一次，不产生目标代码程序。\n",
    "- 优点：可移植性好，在不同的系统上安装不同的解释器即可\n",
    "- 缺点：运行速度慢\n",
    "- 场合：做系统级、web对外开发（Python, javascript, java)\n",
    "　**java既是解释型也是编译型，自带虚拟机，原文件被翻译成字节码，介于高级语言和机器语言之间**"
   ]
  },
  {
   "cell_type": "markdown",
   "metadata": {},
   "source": [
    "### 3.\tPython属于什么语言"
   ]
  },
  {
   "cell_type": "markdown",
   "metadata": {},
   "source": [
    "python是**基于内存管理**的一种**解释型、强类型、动态语言**\n",
    "\n",
    "|语言|含义|举例|\n",
    "|:--:|:--:|:--:|\n",
    "|动态语言|给变量赋值或定义时，不用考虑变量类型（变量类型不固定）|python,php,javascript|\n",
    "|静态语言|给变量赋值或定义时，必须先指明变量类型|C,C++|\n",
    "|强类型语言|当一个变量被执行过某一个数据类型，只有经过强制转换才能改变数据类型|python,C,C++,java|\n",
    "|弱类型语言|一个变量指定了一种数据类型，使用时可以自动转换类型|php|"
   ]
  },
  {
   "cell_type": "markdown",
   "metadata": {},
   "source": [
    "### 4.\tPython的版本"
   ]
  },
  {
   "cell_type": "markdown",
   "metadata": {},
   "source": [
    "版本区别：\n",
    "\n",
    "python分为2x和3x版本，并行，不兼容（2.7是2x的最终版本）\n"
   ]
  },
  {
   "cell_type": "code",
   "execution_count": 2,
   "metadata": {},
   "outputs": [
    {
     "data": {
      "text/plain": [
       "'3.7.6 (default, Jan  8 2020, 20:23:39) [MSC v.1916 64 bit (AMD64)]'"
      ]
     },
     "execution_count": 2,
     "metadata": {},
     "output_type": "execute_result"
    }
   ],
   "source": [
    "import sys\n",
    "sys.version"
   ]
  },
  {
   "cell_type": "markdown",
   "metadata": {},
   "source": [
    "### 5.\tPython的执行方式，阐述区别和优缺点"
   ]
  },
  {
   "cell_type": "markdown",
   "metadata": {},
   "source": [
    "（1）交互式执行(python)\n",
    "- 进入cmd（交互式命令窗口）\n",
    "- python命令（相当于调用python解释器）\n",
    "- 输入python程序\n",
    "\n",
    "（2）脚本执行(pycharm)\n",
    "- 创建一个脚本（.py文件）\n",
    "- 在cmd后台找到脚本的路径\n",
    "- 输入命令：python 脚本的名字（文件名+扩展名）\n",
    "\n",
    "（3）交互模式和脚本模式的区别\n",
    "- 交互模式：相当于一行一行的输入源代码，每输入一行，就执行一行（不需要print）\n",
    "- 脚本模式：一次性把py文件所有的源码全部执行，没有机会进行交互（一般代码很长，不可能每一步交互一次）"
   ]
  },
  {
   "cell_type": "markdown",
   "metadata": {},
   "source": [
    "### 6. 查看“Python之禅”。"
   ]
  },
  {
   "cell_type": "code",
   "execution_count": 1,
   "metadata": {},
   "outputs": [
    {
     "name": "stdout",
     "output_type": "stream",
     "text": [
      "The Zen of Python, by Tim Peters\n",
      "\n",
      "Beautiful is better than ugly.\n",
      "Explicit is better than implicit.\n",
      "Simple is better than complex.\n",
      "Complex is better than complicated.\n",
      "Flat is better than nested.\n",
      "Sparse is better than dense.\n",
      "Readability counts.\n",
      "Special cases aren't special enough to break the rules.\n",
      "Although practicality beats purity.\n",
      "Errors should never pass silently.\n",
      "Unless explicitly silenced.\n",
      "In the face of ambiguity, refuse the temptation to guess.\n",
      "There should be one-- and preferably only one --obvious way to do it.\n",
      "Although that way may not be obvious at first unless you're Dutch.\n",
      "Now is better than never.\n",
      "Although never is often better than *right* now.\n",
      "If the implementation is hard to explain, it's a bad idea.\n",
      "If the implementation is easy to explain, it may be a good idea.\n",
      "Namespaces are one honking great idea -- let's do more of those!\n"
     ]
    }
   ],
   "source": [
    "import this"
   ]
  }
 ],
 "metadata": {
  "kernelspec": {
   "display_name": "Python 3",
   "language": "python",
   "name": "python3"
  },
  "language_info": {
   "codemirror_mode": {
    "name": "ipython",
    "version": 3
   },
   "file_extension": ".py",
   "mimetype": "text/x-python",
   "name": "python",
   "nbconvert_exporter": "python",
   "pygments_lexer": "ipython3",
   "version": "3.7.6"
  }
 },
 "nbformat": 4,
 "nbformat_minor": 4
}
